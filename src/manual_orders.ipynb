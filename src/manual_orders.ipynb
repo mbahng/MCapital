{
 "cells": [
  {
   "cell_type": "code",
   "execution_count": 1,
   "metadata": {},
   "outputs": [
    {
     "data": {
      "text/plain": [
       "<IB connected to 127.0.0.1:7497 clientId=8371>"
      ]
     },
     "execution_count": 1,
     "metadata": {},
     "output_type": "execute_result"
    }
   ],
   "source": [
    "import sqlite3, time\n",
    "from ib_insync import * \n",
    "import pandas as pd, numpy as np \n",
    "from random import randint\n",
    "from datetime import * \n",
    "\n",
    "util.startLoop()        # use this when working in notebooks \n",
    "\n",
    "import sys \n",
    "sys.path.insert(1, \"src\")           # add directory to python path \n",
    "sys.path.insert(1, \"database\")      # add directory to python path \n",
    "\n",
    "ib = IB() \n",
    "ib.connect('127.0.0.1', 7497, clientId=randint(0, 9999), timeout=0) "
   ]
  },
  {
   "cell_type": "code",
   "execution_count": 2,
   "metadata": {},
   "outputs": [
    {
     "name": "stdout",
     "output_type": "stream",
     "text": [
      "[Position(account='DU2804404', contract=Stock(conId=517593749, symbol='IONQ', exchange='NYSE', currency='USD', localSymbol='IONQ', tradingClass='IONQ'), position=-4000.0, avgCost=5.0897533)]\n"
     ]
    }
   ],
   "source": [
    "# Get all positions\n",
    "print(ib.positions())"
   ]
  },
  {
   "cell_type": "code",
   "execution_count": 3,
   "metadata": {},
   "outputs": [],
   "source": [
    "for elem in ib.reqAllOpenOrders(): \n",
    "    # ib.cancelOrder(elem)\n",
    "    print(elem)"
   ]
  },
  {
   "cell_type": "code",
   "execution_count": 4,
   "metadata": {},
   "outputs": [],
   "source": [
    "ionq = Stock(\"IONQ\", \"SMART\", \"USD\", primaryExchange=\"NASDAQ\")"
   ]
  },
  {
   "cell_type": "code",
   "execution_count": 6,
   "metadata": {},
   "outputs": [
    {
     "name": "stdout",
     "output_type": "stream",
     "text": [
      "LimitOrder(orderId=3, action='BUY', totalQuantity=1000, lmtPrice=4.5, transmit=False)\n",
      "LimitOrder(orderId=4, action='SELL', totalQuantity=1000, lmtPrice=4.8, transmit=False, parentId=3)\n",
      "StopOrder(orderId=5, action='SELL', totalQuantity=1000, auxPrice=4.3, parentId=3)\n"
     ]
    }
   ],
   "source": [
    "# Limit Order filled in and out of RTH\n",
    "# Good till canceled orders must be written with tif='GTC' (time in force)\n",
    "order1 = LimitOrder('BUY', 10, 4.95, tif='GTC')   \n",
    "order2 = LimitOrder('SELL', 10, 5.20)   \n",
    "order3 = LimitOrder('BUY', 10, 4.95, outsideRth=True) \n",
    "order4 = LimitOrder('SELL', 10, 4.8, outsideRth=True) \n",
    "\n",
    "# Market Orders. They cannot be filled outside RTH\n",
    "order5 = MarketOrder('BUY', 10) \n",
    "order6 = MarketOrder('SELL', 10) \n",
    "\n",
    "# Stop loss orders filled in and out of RTH \n",
    "order7 = StopOrder('SELL', 10, 4.50) \n",
    "order8 = StopOrder('SELL', 10, 4.50, outsideRth=True) \n",
    "\n",
    "# Placing the orders \n",
    "# ib.placeOrder(stock, order1)\n",
    "\n",
    "# Canceling a limit/market/stop order \n",
    "# ib.cancelOrder(order1) \n",
    "\n",
    "# A bracket order that submits a limit order to buy (parent order), \n",
    "# a limit order to sell, and a stop loss at the same time (child orders)\n",
    "# The transmit attribute is set to false for the 1st 2 orders so that the final one, which is set to true, \n",
    "# can trigger all 3 of them to be sent to IBKR servers at once. Removes risk of accidental execution. \n",
    "order9 = ib.bracketOrder(\"BUY\", 1000, 4.5, 4.8, 4.3) \n",
    "for ord in order9: \n",
    "    # ib.placeOrder(ionq, ord) \n",
    "    # ib.sleep(1)     # important for child orders to get transmitted\n",
    "    print(ord)\n",
    "    pass "
   ]
  },
  {
   "cell_type": "code",
   "execution_count": 7,
   "metadata": {},
   "outputs": [
    {
     "data": {
      "text/plain": [
       "Trade(contract=Stock(symbol='KO', exchange='SMART', primaryExchange='NYSE', currency='USD'), order=MarketOrder(orderId=5, clientId=8371, action='BUY', totalQuantity=300), orderStatus=OrderStatus(orderId=5, status='PendingSubmit', filled=0.0, remaining=0.0, avgFillPrice=0.0, permId=0, parentId=0, lastFillPrice=0.0, clientId=0, whyHeld='', mktCapPrice=0.0), fills=[], log=[TradeLogEntry(time=datetime.datetime(2022, 10, 14, 16, 48, 6, 270575, tzinfo=datetime.timezone.utc), status='PendingSubmit', message='', errorCode=0)], advancedError='')"
      ]
     },
     "execution_count": 7,
     "metadata": {},
     "output_type": "execute_result"
    }
   ],
   "source": [
    "# Statistical Arbitrage short PEP long KO \n",
    "PEP = Stock(\"PEP\", \"SMART\", \"USD\", primaryExchange=\"NASDAQ\")\n",
    "KO = Stock(\"KO\", \"SMART\", \"USD\", primaryExchange=\"NYSE\")\n",
    "\n",
    "short_PEP = MarketOrder(\"SELL\", 100, tif='GTC')\n",
    "buy_KO = MarketOrder(\"BUY\", 300, tif='GTC')\n",
    "\n",
    "ib.placeOrder(PEP, short_PEP) \n",
    "ib.placeOrder(KO, buy_KO)"
   ]
  },
  {
   "cell_type": "code",
   "execution_count": 16,
   "metadata": {},
   "outputs": [
    {
     "data": {
      "text/plain": [
       "Trade(contract=Stock(symbol='IONQ', exchange='SMART', primaryExchange='NASDAQ', currency='USD'), order=LimitOrder(orderId=10, clientId=8341, action='BUY', totalQuantity=1000, lmtPrice=5.0, tif='GTC'), orderStatus=OrderStatus(orderId=10, status='PendingSubmit', filled=0.0, remaining=0.0, avgFillPrice=0.0, permId=0, parentId=0, lastFillPrice=0.0, clientId=0, whyHeld='', mktCapPrice=0.0), fills=[], log=[TradeLogEntry(time=datetime.datetime(2022, 10, 14, 2, 0, 29, 798752, tzinfo=datetime.timezone.utc), status='PendingSubmit', message='', errorCode=0)], advancedError='')"
      ]
     },
     "execution_count": 16,
     "metadata": {},
     "output_type": "execute_result"
    }
   ],
   "source": [
    "short_buy_1 = LimitOrder(\"BUY\", 1000, 5.00, tif='GTC') \n",
    "ib.placeOrder(ionq, short_buy_1)  "
   ]
  },
  {
   "cell_type": "code",
   "execution_count": 8,
   "metadata": {},
   "outputs": [
    {
     "name": "stdout",
     "output_type": "stream",
     "text": [
      "1\n"
     ]
    }
   ],
   "source": [
    "custom_order = LimitOrder(\"BUY\", 10, 4.00, orderId=1, discretionaryAmount=0.00) \n",
    "print(custom_order.orderId)"
   ]
  },
  {
   "cell_type": "code",
   "execution_count": null,
   "metadata": {},
   "outputs": [],
   "source": []
  }
 ],
 "metadata": {
  "kernelspec": {
   "display_name": "Python 3.10.4 ('MCapital')",
   "language": "python",
   "name": "python3"
  },
  "language_info": {
   "codemirror_mode": {
    "name": "ipython",
    "version": 3
   },
   "file_extension": ".py",
   "mimetype": "text/x-python",
   "name": "python",
   "nbconvert_exporter": "python",
   "pygments_lexer": "ipython3",
   "version": "3.10.4"
  },
  "orig_nbformat": 4,
  "vscode": {
   "interpreter": {
    "hash": "91345b8e9f83b07b079400c30f66d770a3644b65ef6ff4d5f77a72c1fc986cb3"
   }
  }
 },
 "nbformat": 4,
 "nbformat_minor": 2
}
